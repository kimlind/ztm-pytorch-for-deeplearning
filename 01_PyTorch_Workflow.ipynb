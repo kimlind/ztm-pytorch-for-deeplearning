{
  "nbformat": 4,
  "nbformat_minor": 0,
  "metadata": {
    "colab": {
      "provenance": [],
      "authorship_tag": "ABX9TyOuw0bcYPhyqmG7IvulEqTv",
      "include_colab_link": true
    },
    "kernelspec": {
      "name": "python3",
      "display_name": "Python 3"
    },
    "language_info": {
      "name": "python"
    }
  },
  "cells": [
    {
      "cell_type": "markdown",
      "metadata": {
        "id": "view-in-github",
        "colab_type": "text"
      },
      "source": [
        "<a href=\"https://colab.research.google.com/github/kimlind/ztm-pytorch-for-deeplearning/blob/second-lesson/01_PyTorch_Workflow.ipynb\" target=\"_parent\"><img src=\"https://colab.research.google.com/assets/colab-badge.svg\" alt=\"Open In Colab\"/></a>"
      ]
    },
    {
      "cell_type": "code",
      "execution_count": null,
      "metadata": {
        "id": "-SO83T8tpL0B"
      },
      "outputs": [],
      "source": []
    },
    {
      "cell_type": "markdown",
      "source": [
        "# PyTorch Workflow\n",
        "\n",
        "end-to-end workflow\n"
      ],
      "metadata": {
        "id": "6O8ySmcQpzXz"
      }
    },
    {
      "cell_type": "code",
      "source": [
        "what_were_covering = {1: \"Data(preparing and loading)\",\n",
        "                      2: \"Build model\",\n",
        "                      3: \"Fitting model to data (training)\",\n",
        "                      4: \"Making predictions and evaluting a model (inference)\",\n",
        "                      5: \"Saving and loading a model\",\n",
        "                      6: \"Putting it all together\"}\n",
        "what_were_covering"
      ],
      "metadata": {
        "colab": {
          "base_uri": "https://localhost:8080/"
        },
        "id": "QR-FP7XqqJ03",
        "outputId": "c4fcc134-6e1c-4517-d3d9-4291d824612a"
      },
      "execution_count": 1,
      "outputs": [
        {
          "output_type": "execute_result",
          "data": {
            "text/plain": [
              "{1: 'Data(preparing and loading)',\n",
              " 2: 'Build model',\n",
              " 3: 'Fitting model to data (training)',\n",
              " 4: 'Making predictions and evaluting a model (inference)',\n",
              " 5: 'Saving and loading a model',\n",
              " 6: 'Putting it all together'}"
            ]
          },
          "metadata": {},
          "execution_count": 1
        }
      ]
    },
    {
      "cell_type": "code",
      "source": [
        "import torch\n",
        "from torch import nn # nn contains all pytorch building blocks\n",
        "import matplotlib.pyplot as plt\n",
        "\n",
        "# Check PyTorch\n",
        "torch.__version__"
      ],
      "metadata": {
        "colab": {
          "base_uri": "https://localhost:8080/",
          "height": 36
        },
        "id": "Qrr9GY-Dq97_",
        "outputId": "15464fdb-2f6c-4f20-b30c-972c55206401"
      },
      "execution_count": 2,
      "outputs": [
        {
          "output_type": "execute_result",
          "data": {
            "text/plain": [
              "'2.1.0+cu121'"
            ],
            "application/vnd.google.colaboratory.intrinsic+json": {
              "type": "string"
            }
          },
          "metadata": {},
          "execution_count": 2
        }
      ]
    },
    {
      "cell_type": "markdown",
      "source": [
        "from typing_extensions import Text\n",
        "## 1. Preparing and loading data\n",
        "\n",
        "Data can be almost anything in machine learnign\n",
        "\n",
        "* Excel spreadsheets\n",
        "* Images\n",
        "* Videos\n",
        "* Audio\n",
        "* Dna\n",
        "* Text\n",
        "\n",
        "Machine learning is a game of two parts\n",
        "1. Get data into numerical representation\n",
        "2. Build mode to learn patterns in representation\n",
        "\n",
        "To Showcase this lets generate some *known* data using linear regression formula"
      ],
      "metadata": {
        "id": "XcPJmXmdrmWf"
      }
    },
    {
      "cell_type": "code",
      "source": [
        "# Create known parameters\n",
        "weight = 0.7\n",
        "bias = 0.3\n",
        "\n",
        "# Create data\n",
        "start = 0\n",
        "end = 1\n",
        "step = 0.02\n",
        "\n",
        "X = torch.arange(start, end, step).unsqueeze(dim=1)\n",
        "y = weight * X + bias\n",
        "X[:10], y[:10]"
      ],
      "metadata": {
        "colab": {
          "base_uri": "https://localhost:8080/"
        },
        "id": "97eWUKGWsIP6",
        "outputId": "8a35e15d-6004-462f-e8e2-33c6dd2d721d"
      },
      "execution_count": 3,
      "outputs": [
        {
          "output_type": "execute_result",
          "data": {
            "text/plain": [
              "(tensor([[0.0000],\n",
              "         [0.0200],\n",
              "         [0.0400],\n",
              "         [0.0600],\n",
              "         [0.0800],\n",
              "         [0.1000],\n",
              "         [0.1200],\n",
              "         [0.1400],\n",
              "         [0.1600],\n",
              "         [0.1800]]),\n",
              " tensor([[0.3000],\n",
              "         [0.3140],\n",
              "         [0.3280],\n",
              "         [0.3420],\n",
              "         [0.3560],\n",
              "         [0.3700],\n",
              "         [0.3840],\n",
              "         [0.3980],\n",
              "         [0.4120],\n",
              "         [0.4260]]))"
            ]
          },
          "metadata": {},
          "execution_count": 3
        }
      ]
    },
    {
      "cell_type": "code",
      "source": [
        "len(X), len(y)"
      ],
      "metadata": {
        "colab": {
          "base_uri": "https://localhost:8080/"
        },
        "id": "FpLJNRRtt6CM",
        "outputId": "10839d5d-e2d0-4a9f-8547-c91a784c5c32"
      },
      "execution_count": 4,
      "outputs": [
        {
          "output_type": "execute_result",
          "data": {
            "text/plain": [
              "(50, 50)"
            ]
          },
          "metadata": {},
          "execution_count": 4
        }
      ]
    },
    {
      "cell_type": "markdown",
      "source": [
        "### Splittig data into training adn data test sets\n",
        "\n",
        "Lets create training and test set with our data"
      ],
      "metadata": {
        "id": "yHavwFYSuZj8"
      }
    },
    {
      "cell_type": "code",
      "source": [
        "# Create train/test split\n",
        "train_split = int(0.8*len(X))\n",
        "X_train, y_train = X[:train_split], y[:train_split]\n",
        "X_test, y_test = X[train_split:], y[train_split:]\n",
        "len(X_train), len(y_train), len(X_test), len(y_test)"
      ],
      "metadata": {
        "colab": {
          "base_uri": "https://localhost:8080/"
        },
        "id": "ICR5hpmnujNH",
        "outputId": "ce53d2cd-39be-4c48-969b-426a3d0dd860"
      },
      "execution_count": 5,
      "outputs": [
        {
          "output_type": "execute_result",
          "data": {
            "text/plain": [
              "(40, 40, 10, 10)"
            ]
          },
          "metadata": {},
          "execution_count": 5
        }
      ]
    },
    {
      "cell_type": "markdown",
      "source": [
        "How do we better visualize the data?"
      ],
      "metadata": {
        "id": "uxvY0wVPwio3"
      }
    },
    {
      "cell_type": "code",
      "source": [
        "def plot_predictions(train_data=X_train,\n",
        "                     train_labels=y_train,\n",
        "                     test_data=X_test,\n",
        "                     test_label=y_test,\n",
        "                     predictions=None):\n",
        "  \"\"\"\n",
        "  Plots training data, test data and compare predictions\n",
        "  \"\"\"\n",
        "\n",
        "  plt.figure(figsize=(10,7))\n",
        "\n",
        "  # plot training data\n",
        "  plt.scatter(train_data, train_labels, c=\"b\", s=4, label=\"Training data\")\n",
        "\n",
        "    # plot test data\n",
        "  plt.scatter(test_data, test_label, c=\"g\", s=4, label=\"Testing data\")\n",
        "\n",
        "  # Plot predictions\n",
        "  if predictions is not None:\n",
        "    plt.scatter(test_data, predictions, c=\"r\", s=4, label=\"Predictions\")\n",
        "\n",
        "  plt.legend(prop={\"size\":14});"
      ],
      "metadata": {
        "id": "AgY0tFyjwimU"
      },
      "execution_count": 6,
      "outputs": []
    },
    {
      "cell_type": "code",
      "source": [
        "plot_predictions()"
      ],
      "metadata": {
        "colab": {
          "base_uri": "https://localhost:8080/",
          "height": 599
        },
        "id": "3SKeBxiEy_qp",
        "outputId": "6e1d81d5-f5ca-4a09-e9fe-8687ee2706f9"
      },
      "execution_count": 7,
      "outputs": [
        {
          "output_type": "display_data",
          "data": {
            "text/plain": [
              "<Figure size 1000x700 with 1 Axes>"
            ],
            "image/png": "[encoded data removed]"
          },
          "metadata": {}
        }
      ]
    },
    {
      "cell_type": "markdown",
      "source": [
        "## 2. Build model\n",
        "\n",
        "First PyTorch model\n",
        "\n",
        "What our model does:\n",
        "* Start with random values (weight and bias)\n",
        "* Look at training data and adjust the random values to better represent (or get closer to) the ideal values\n",
        "\n",
        "How it does so?\n",
        "Two main algorithms\n",
        "1. Gradien descent\n",
        "2. Backpropagation\n"
      ],
      "metadata": {
        "id": "sQ_TzInqwijP"
      }
    },
    {
      "cell_type": "code",
      "source": [
        "# Create linear regression model class\n",
        "class LinearRegressionModel(nn.Module): # Almost everything inherits froim nn.module\n",
        "  def __init__(self):\n",
        "    super().__init__()\n",
        "    self.weight = nn.Parameter(torch.randn(1))#,\n",
        "                                            #reguires_grad=True,\n",
        "                                            #dtyp=torch.float))\n",
        "\n",
        "    self.bias = nn.Parameter(torch.randn(1))#,\n",
        "                                            #reguires_grad=True,\n",
        "                                            #dtyp=torch.float))\n",
        "\n",
        "  # Forward method to define the computation in the model\n",
        "  def forward(self, x: torch.Tensor) -> torch.Tensor: #<- X is the input data\n",
        "    return self.weight * x + self.bias # Linear regression formula\n"
      ],
      "metadata": {
        "id": "KrW2oPF8wigg"
      },
      "execution_count": 8,
      "outputs": []
    },
    {
      "cell_type": "markdown",
      "source": [
        "### PyTroch Model building essentials\n",
        "\n",
        "* Torch.nn - Contains all of the building for computational graphs (a neural network can be considered a computational graph)\n",
        "* torch.nn.Parameter - What paramters should our model try and learn, often a Pytorch layer from torch.nn will set these for us\n",
        "* torch.nn.Module - the base class for all neural network modules, if you subclass it you should override forward() method\n",
        "* torch.optim - Where optimizer in pytorch live. They will help with gradien descent\n",
        "* def forward() - All nn.Module subclasses require you to override forward(), this method defines what happens in the forward computation\n"
      ],
      "metadata": {
        "id": "NhxljxUWwids"
      }
    },
    {
      "cell_type": "markdown",
      "source": [
        "### Checking the content of our PyTorch Model\n",
        "\n",
        "We can check model paramters or whats inside ourmodel using .parameter()"
      ],
      "metadata": {
        "id": "Lr268Sbpwia2"
      }
    },
    {
      "cell_type": "code",
      "source": [
        "# Create random seed\n",
        "torch.manual_seed(42)\n",
        "\n",
        "# Create an instance of the model\n",
        "model_0 = LinearRegressionModel()\n",
        "model_0\n",
        "\n",
        "#Check Model paramters\n",
        "list(model_0.parameters())"
      ],
      "metadata": {
        "id": "Fg67sU37dmZh",
        "outputId": "8b320f35-061a-475d-c68e-715fe57687a5",
        "colab": {
          "base_uri": "https://localhost:8080/"
        }
      },
      "execution_count": 23,
      "outputs": [
        {
          "output_type": "execute_result",
          "data": {
            "text/plain": [
              "[Parameter containing:\n",
              " tensor([0.3367], requires_grad=True),\n",
              " Parameter containing:\n",
              " tensor([0.1288], requires_grad=True)]"
            ]
          },
          "metadata": {},
          "execution_count": 23
        }
      ]
    },
    {
      "cell_type": "code",
      "source": [
        "# List named parameters\n",
        "model_0.state_dict()"
      ],
      "metadata": {
        "id": "vXaBRDNRdm4L",
        "outputId": "7bf5603e-b291-4fd9-c7a5-c7a7b0f8e051",
        "colab": {
          "base_uri": "https://localhost:8080/"
        }
      },
      "execution_count": 10,
      "outputs": [
        {
          "output_type": "execute_result",
          "data": {
            "text/plain": [
              "OrderedDict([('weight', tensor([0.3367])), ('bias', tensor([0.1288]))])"
            ]
          },
          "metadata": {},
          "execution_count": 10
        }
      ]
    },
    {
      "cell_type": "code",
      "source": [
        "weight, bias"
      ],
      "metadata": {
        "id": "SVoZYsgqdm1r",
        "outputId": "25115bc8-68c9-4f8b-ee58-5b06766ce31d",
        "colab": {
          "base_uri": "https://localhost:8080/"
        }
      },
      "execution_count": 11,
      "outputs": [
        {
          "output_type": "execute_result",
          "data": {
            "text/plain": [
              "(0.7, 0.3)"
            ]
          },
          "metadata": {},
          "execution_count": 11
        }
      ]
    },
    {
      "cell_type": "markdown",
      "source": [
        "### Making predictions using torch.inference_mode()\n",
        "\n",
        "To check models predictive power lets see how well it predicts y_test and x_test\n",
        "\n",
        "when we pass the data through our model, its going to run it through the forward() method"
      ],
      "metadata": {
        "id": "g-Ig8bFvdmzB"
      }
    },
    {
      "cell_type": "code",
      "source": [
        "# make predictions with model\n",
        "with torch.inference_mode():\n",
        "  y_preds = model_0(X_test)\n",
        "\n",
        "y_preds"
      ],
      "metadata": {
        "id": "rZpar5G5dmv5",
        "outputId": "4d208e76-9b17-4dea-c14b-e1324f65522c",
        "colab": {
          "base_uri": "https://localhost:8080/"
        }
      },
      "execution_count": 12,
      "outputs": [
        {
          "output_type": "execute_result",
          "data": {
            "text/plain": [
              "tensor([[0.3982],\n",
              "        [0.4049],\n",
              "        [0.4116],\n",
              "        [0.4184],\n",
              "        [0.4251],\n",
              "        [0.4318],\n",
              "        [0.4386],\n",
              "        [0.4453],\n",
              "        [0.4520],\n",
              "        [0.4588]])"
            ]
          },
          "metadata": {},
          "execution_count": 12
        }
      ]
    },
    {
      "cell_type": "code",
      "source": [
        "y_test"
      ],
      "metadata": {
        "id": "G2-R66ZHdmtD",
        "outputId": "0a9b9bb9-9d3c-43e9-af23-c24c4b3b09f4",
        "colab": {
          "base_uri": "https://localhost:8080/"
        }
      },
      "execution_count": 13,
      "outputs": [
        {
          "output_type": "execute_result",
          "data": {
            "text/plain": [
              "tensor([[0.8600],\n",
              "        [0.8740],\n",
              "        [0.8880],\n",
              "        [0.9020],\n",
              "        [0.9160],\n",
              "        [0.9300],\n",
              "        [0.9440],\n",
              "        [0.9580],\n",
              "        [0.9720],\n",
              "        [0.9860]])"
            ]
          },
          "metadata": {},
          "execution_count": 13
        }
      ]
    },
    {
      "cell_type": "code",
      "source": [
        "plot_predictions(predictions=y_preds)"
      ],
      "metadata": {
        "id": "GVddeRhsdme9",
        "outputId": "b0d03a9c-e308-4ce8-b0e2-ad25c3b562b0",
        "colab": {
          "base_uri": "https://localhost:8080/",
          "height": 599
        }
      },
      "execution_count": 14,
      "outputs": [
        {
          "output_type": "display_data",
          "data": {
            "text/plain": [
              "<Figure size 1000x700 with 1 Axes>"
            ],
            "image/png": "[encoded data removed]"
          },
          "metadata": {}
        }
      ]
    },
    {
      "cell_type": "markdown",
      "source": [
        "## 3. Train model\n",
        "\n",
        "The whole idea for a model to move from some *unknown* paramters to some *known* parameters\n",
        "\n",
        "Or in other words fropm poor representation of the data to a better representation of the data\n",
        "\n",
        "One way to measure how pooer or how wrong is to use loss functions\n",
        "\n",
        "* Note: Loss functions may also be called cost functions or criterion in different areas.\n",
        "\n",
        "Things we need to train:\n",
        "\n",
        "* **Loss functions:** Function to measure how wrong model prediction is against test data. Lower the value the better performance\n",
        "* **Optimizer:** Takes into account the loss of the model and adjusts the models parameters\n",
        "\n",
        "And spefically for the Pytorch we need\n",
        "* A training loop\n",
        "* A testing loop\n"
      ],
      "metadata": {
        "id": "wirwbXQshB59"
      }
    },
    {
      "cell_type": "code",
      "source": [
        "list(model_0.parameters())"
      ],
      "metadata": {
        "id": "u3E4IkUqhB2s",
        "outputId": "8959a956-3ad6-48f7-cd09-ef62125cecb1",
        "colab": {
          "base_uri": "https://localhost:8080/"
        }
      },
      "execution_count": 15,
      "outputs": [
        {
          "output_type": "execute_result",
          "data": {
            "text/plain": [
              "[Parameter containing:\n",
              " tensor([0.3367], requires_grad=True),\n",
              " Parameter containing:\n",
              " tensor([0.1288], requires_grad=True)]"
            ]
          },
          "metadata": {},
          "execution_count": 15
        }
      ]
    },
    {
      "cell_type": "code",
      "source": [
        "# Setup loss function\n",
        "loss_fn = nn.L1Loss()\n",
        "\n",
        "# Setup optimizer\n",
        "optimizer = torch.optim.SGD(params=model_0.parameters(),\n",
        "                            lr=0.001) # lr=learning rate = most important hyperparameter"
      ],
      "metadata": {
        "id": "7fQaf3cohBzC"
      },
      "execution_count": 24,
      "outputs": []
    },
    {
      "cell_type": "markdown",
      "source": [
        "### Building a training loop and testing loop in PyTorch\n",
        "\n",
        "Couple things we need in a training loop\n",
        "0. Loop through data\n",
        "1. Forward pass (this envolves data moving through our models forward() fucntions\n",
        "2. Calculate the loss (compare forward pass predictions to ground truth labels)\n",
        "3. Optimizer zero grad\n",
        "4. Loss backward - move backwards through the network to calculate the gradiesnt of the each of the parameters of our model with respect to loss **(backpropagations)**\n",
        "5. Optimizer step - use the optimizer to adjust our models parameters to try and improve the loss **(gradient descent)**\n"
      ],
      "metadata": {
        "id": "x-y9Z4ijdmcR"
      }
    },
    {
      "cell_type": "code",
      "source": [
        "# Epoch is one loop through the data (hyperparamter)\n",
        "epochs = 1800\n",
        "\n",
        "# Track different values\n",
        "epoch_count = []\n",
        "loss_values = []\n",
        "test_loss_values = []\n",
        "\n",
        "#\n",
        "torch.manual_seed(42)\n",
        "\n",
        "### Training\n",
        "\n",
        "#  0. loop through the data\n",
        "for epoch in range(epochs):\n",
        "  # Set the model to training mode\n",
        "  model_0.train() # train mode in PyTorch set all parameters that require gradients\n",
        "\n",
        "  # 1. Forward pass\n",
        "  y_pred = model_0(X_train)\n",
        "\n",
        "  # 2. Calculate loss\n",
        "  loss = loss_fn(y_pred, y_train)\n",
        "\n",
        "  # 3. Optimiser zero grad\n",
        "  optimizer.zero_grad()\n",
        "\n",
        "  # 4. perform backpropagation with respect to the parameters of the mode\n",
        "  loss.backward()\n",
        "\n",
        "  #5. Step the optimizer (perform gradien descent)\n",
        "  optimizer.step()\n",
        "\n",
        "  ### Testing\n",
        "  model_0.eval() # Turns off gradient tracking\n",
        "  with torch.inference_mode(): # Turns off gradient tracking\n",
        "    # 1. Forward pass\n",
        "    test_pred = model_0(X_test)\n",
        "\n",
        "    # 2. Calculate the loss\n",
        "    test_loss = loss_fn(test_pred, y_test)\n",
        "\n",
        "  if epoch % 100 == 0:\n",
        "    epoch_count.append(epoch)\n",
        "    loss_values.append(loss)\n",
        "    test_loss_values.append(test_loss)\n",
        "    print(f\"Epoch: {epoch} | Loss: {loss} | Test Loss: {test_loss}\")\n",
        "\n",
        "print(f\"Loss: {loss}\")"
      ],
      "metadata": {
        "id": "GcAob4QDsO1c",
        "outputId": "cb146b86-3e6e-49d5-987c-72de429c38c3",
        "colab": {
          "base_uri": "https://localhost:8080/"
        }
      },
      "execution_count": 25,
      "outputs": [
        {
          "output_type": "stream",
          "name": "stdout",
          "text": [
            "Epoch: 0 | Loss: 0.31288138031959534 | Test Loss: 0.4931890368461609\n",
            "Epoch: 100 | Loss: 0.19767141342163086 | Test Loss: 0.35847947001457214\n",
            "Epoch: 200 | Loss: 0.08973254263401031 | Test Loss: 0.22795839607715607\n",
            "Epoch: 300 | Loss: 0.05357731133699417 | Test Loss: 0.15086300671100616\n",
            "Epoch: 400 | Loss: 0.04549176245927811 | Test Loss: 0.11657620966434479\n",
            "Epoch: 500 | Loss: 0.04160415381193161 | Test Loss: 0.10088418424129486\n",
            "Epoch: 600 | Loss: 0.03811401128768921 | Test Loss: 0.08986451476812363\n",
            "Epoch: 700 | Loss: 0.03466346859931946 | Test Loss: 0.08097299933433533\n",
            "Epoch: 800 | Loss: 0.03122851625084877 | Test Loss: 0.07297395914793015\n",
            "Epoch: 900 | Loss: 0.027794325724244118 | Test Loss: 0.06490625441074371\n",
            "Epoch: 1000 | Loss: 0.02435956709086895 | Test Loss: 0.05690721794962883\n",
            "Epoch: 1100 | Loss: 0.02092517353594303 | Test Loss: 0.0488395169377327\n",
            "Epoch: 1200 | Loss: 0.017490629106760025 | Test Loss: 0.04084048420190811\n",
            "Epoch: 1300 | Loss: 0.014056024141609669 | Test Loss: 0.03277278691530228\n",
            "Epoch: 1400 | Loss: 0.010621682740747929 | Test Loss: 0.0247737355530262\n",
            "Epoch: 1500 | Loss: 0.007186878472566605 | Test Loss: 0.01670604944229126\n",
            "Epoch: 1600 | Loss: 0.003752306802198291 | Test Loss: 0.008672690019011497\n",
            "Epoch: 1700 | Loss: 0.0003177322505507618 | Test Loss: 0.0006393313524313271\n",
            "Loss: 0.0007075972971506417\n"
          ]
        }
      ]
    },
    {
      "cell_type": "code",
      "source": [
        "model_0.state_dict()"
      ],
      "metadata": {
        "id": "UgTtl8iEsOyN",
        "outputId": "9e5c2cb0-4251-44b9-bb01-ac845c895ba3",
        "colab": {
          "base_uri": "https://localhost:8080/"
        }
      },
      "execution_count": 26,
      "outputs": [
        {
          "output_type": "execute_result",
          "data": {
            "text/plain": [
              "OrderedDict([('weight', tensor([0.6994])), ('bias', tensor([0.2998]))])"
            ]
          },
          "metadata": {},
          "execution_count": 26
        }
      ]
    },
    {
      "cell_type": "code",
      "source": [
        "weight, bias"
      ],
      "metadata": {
        "id": "HtXgJadCsOvN",
        "outputId": "0fceb87a-d314-4c41-d902-420d3e056f24",
        "colab": {
          "base_uri": "https://localhost:8080/"
        }
      },
      "execution_count": 21,
      "outputs": [
        {
          "output_type": "execute_result",
          "data": {
            "text/plain": [
              "(0.7, 0.3)"
            ]
          },
          "metadata": {},
          "execution_count": 21
        }
      ]
    },
    {
      "cell_type": "code",
      "source": [
        "\n"
      ],
      "metadata": {
        "id": "Oi8fbTRIiAa8"
      },
      "execution_count": null,
      "outputs": []
    },
    {
      "cell_type": "code",
      "source": [
        "import numpy as np\n",
        "\n",
        "# plot the loss curves\n",
        "plt.plot(epoch_count, np.array(torch.tensor(loss_values).cpu().numpy()), label=\"Train loss\")\n",
        "plt.plot(epoch_count, np.array(torch.tensor(test_loss_values).cpu().numpy()), label=\"Test loss\")\n",
        "plt.title(\"Training and test loss curves\")\n",
        "plt.ylabel(\"loss\")\n",
        "plt.xlabel(\"epochs\")\n",
        "plt.legend()"
      ],
      "metadata": {
        "id": "h8DFJ8zSg2vy",
        "outputId": "1eb7b42b-1247-435e-c3db-4e8384d1fc2b",
        "colab": {
          "base_uri": "https://localhost:8080/",
          "height": 490
        }
      },
      "execution_count": 30,
      "outputs": [
        {
          "output_type": "execute_result",
          "data": {
            "text/plain": [
              "<matplotlib.legend.Legend at 0x7cbb1ff7a050>"
            ]
          },
          "metadata": {},
          "execution_count": 30
        },
        {
          "output_type": "display_data",
          "data": {
            "text/plain": [
              "<Figure size 640x480 with 1 Axes>"
            ],
            "image/png": "[encoded data removed]"
          },
          "metadata": {}
        }
      ]
    },
    {
      "cell_type": "code",
      "source": [
        "with torch.inference_mode():\n",
        "  y_preds_new = model_0(X_test)\n",
        "\n",
        "plot_predictions(predictions=y_preds_new)"
      ],
      "metadata": {
        "id": "vJ3EQKfzsOgn",
        "outputId": "e136323f-7347-4a68-eecc-6f8d11d5e76d",
        "colab": {
          "base_uri": "https://localhost:8080/",
          "height": 599
        }
      },
      "execution_count": 27,
      "outputs": [
        {
          "output_type": "display_data",
          "data": {
            "text/plain": [
              "<Figure size 1000x700 with 1 Axes>"
            ],
            "image/png": "[encoded data removed]"
          },
          "metadata": {}
        }
      ]
    },
    {
      "cell_type": "markdown",
      "source": [
        "## Saving a model in PyTorch\n",
        "\n",
        "Three main methods to save and load models in PyTorch\n",
        "\n",
        "1. torch.save() -- Allows you to save PyTorch object in Pythonhs pickle format\n",
        "2. torch.load() -- Allows you load a saved PyTorch object\n",
        "3. torch.nn.Module.load_state_dict() -- This allows to load models saved state dictionary"
      ],
      "metadata": {
        "id": "jP_CeQ0WsOdl"
      }
    },
    {
      "cell_type": "code",
      "source": [
        "# Saving our PyTorch Model\n",
        "from pathlib import Path\n",
        "\n",
        "# 1 .Create models directory\n",
        "MODEL_PATH = Path(\"models\")\n",
        "MODEL_PATH.mkdir(parents=True, exist_ok=True)\n",
        "\n",
        "# 2. Create model save path\n",
        "MODEL_NAME = \"01_pytorch_workflow_model_0.pth\"\n",
        "MODEL_SAVE_PATH = MODEL_PATH / MODEL_NAME\n",
        "\n",
        "# 3. Save the model state dict\n",
        "print(f\"Saving model to: {MODEL_SAVE_PATH}\")\n",
        "torch.save(obj=model_0.state_dict(),\n",
        "           f=MODEL_SAVE_PATH)"
      ],
      "metadata": {
        "id": "U5pLk6jksOae",
        "outputId": "ef7046d2-ece4-4f84-dfcf-f6aa786f572c",
        "colab": {
          "base_uri": "https://localhost:8080/"
        }
      },
      "execution_count": 35,
      "outputs": [
        {
          "output_type": "stream",
          "name": "stdout",
          "text": [
            "Saving model to: models/01_pytorch_workflow_model_0.pth\n"
          ]
        }
      ]
    },
    {
      "cell_type": "markdown",
      "source": [
        "## Loading a PyTorch model\n",
        "\n",
        "Since we saved our models state_dict(), we'll create a new instance of our model class and load the save state_dict() into that"
      ],
      "metadata": {
        "id": "A4Pc3vkysOXQ"
      }
    },
    {
      "cell_type": "code",
      "source": [
        "# To load in saved state_dict we have to instantiate a new instance of our model class\n",
        "loaded_model_0 = LinearRegressionModel()\n",
        "\n",
        "# load the saved state_dict of model_0\n",
        "loaded_model_0.load_state_dict(torch.load(f=MODEL_SAVE_PATH))"
      ],
      "metadata": {
        "id": "5tAvQEwqstmb",
        "outputId": "6f8910ea-b808-4157-800b-3ea94cc4a3cf",
        "colab": {
          "base_uri": "https://localhost:8080/"
        }
      },
      "execution_count": 39,
      "outputs": [
        {
          "output_type": "execute_result",
          "data": {
            "text/plain": [
              "<All keys matched successfully>"
            ]
          },
          "metadata": {},
          "execution_count": 39
        }
      ]
    },
    {
      "cell_type": "code",
      "source": [
        "loaded_model_0.state_dict()"
      ],
      "metadata": {
        "id": "Aa2DPArqtnQf",
        "outputId": "5b7b92bb-4a7f-4108-d5c8-a376913002d8",
        "colab": {
          "base_uri": "https://localhost:8080/"
        }
      },
      "execution_count": 40,
      "outputs": [
        {
          "output_type": "execute_result",
          "data": {
            "text/plain": [
              "OrderedDict([('weight', tensor([0.6994])), ('bias', tensor([0.2998]))])"
            ]
          },
          "metadata": {},
          "execution_count": 40
        }
      ]
    },
    {
      "cell_type": "code",
      "source": [
        "# make predictions wit our loaded model\n",
        "\n",
        "loaded_model_0.eval()\n",
        "model_0.eval()\n",
        "with torch.inference_mode():\n",
        "  loaded_model_preds = loaded_model_0(X_test)\n",
        "  model_preds = model_0(X_test)\n",
        "loaded_model_preds"
      ],
      "metadata": {
        "id": "8ZrSF_y2tqId",
        "outputId": "93e16402-9bfe-4768-c9f7-1ad9f3d47b1e",
        "colab": {
          "base_uri": "https://localhost:8080/"
        }
      },
      "execution_count": 43,
      "outputs": [
        {
          "output_type": "execute_result",
          "data": {
            "text/plain": [
              "tensor([[0.8593],\n",
              "        [0.8733],\n",
              "        [0.8873],\n",
              "        [0.9013],\n",
              "        [0.9152],\n",
              "        [0.9292],\n",
              "        [0.9432],\n",
              "        [0.9572],\n",
              "        [0.9712],\n",
              "        [0.9852]])"
            ]
          },
          "metadata": {},
          "execution_count": 43
        }
      ]
    },
    {
      "cell_type": "code",
      "source": [
        "# Compare loaded with original\n",
        "model_preds == loaded_model_preds"
      ],
      "metadata": {
        "id": "49MXAdC5tqF2",
        "outputId": "3f553501-1dda-4f5c-841b-3dd0d90eae6d",
        "colab": {
          "base_uri": "https://localhost:8080/"
        }
      },
      "execution_count": 44,
      "outputs": [
        {
          "output_type": "execute_result",
          "data": {
            "text/plain": [
              "tensor([[True],\n",
              "        [True],\n",
              "        [True],\n",
              "        [True],\n",
              "        [True],\n",
              "        [True],\n",
              "        [True],\n",
              "        [True],\n",
              "        [True],\n",
              "        [True]])"
            ]
          },
          "metadata": {},
          "execution_count": 44
        }
      ]
    },
    {
      "cell_type": "code",
      "source": [],
      "metadata": {
        "id": "unhwqhmetqDL"
      },
      "execution_count": null,
      "outputs": []
    },
    {
      "cell_type": "code",
      "source": [],
      "metadata": {
        "id": "-choyfGptqAh"
      },
      "execution_count": null,
      "outputs": []
    },
    {
      "cell_type": "code",
      "source": [],
      "metadata": {
        "id": "Mr7FHMeutp9t"
      },
      "execution_count": null,
      "outputs": []
    },
    {
      "cell_type": "code",
      "source": [],
      "metadata": {
        "id": "Lv6F-qpdtp64"
      },
      "execution_count": null,
      "outputs": []
    }
  ]
}