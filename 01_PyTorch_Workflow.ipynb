{
  "nbformat": 4,
  "nbformat_minor": 0,
  "metadata": {
    "colab": {
      "provenance": [],
      "authorship_tag": "ABX9TyOWyUur+BLzM1+hjxe4ggqs",
      "include_colab_link": true
    },
    "kernelspec": {
      "name": "python3",
      "display_name": "Python 3"
    },
    "language_info": {
      "name": "python"
    }
  },
  "cells": [
    {
      "cell_type": "markdown",
      "metadata": {
        "id": "view-in-github",
        "colab_type": "text"
      },
      "source": [
        "<a href=\"https://colab.research.google.com/github/kimlind/ztm-pytorch-for-deeplearning/blob/second-lesson/01_PyTorch_Workflow.ipynb\" target=\"_parent\"><img src=\"https://colab.research.google.com/assets/colab-badge.svg\" alt=\"Open In Colab\"/></a>"
      ]
    },
    {
      "cell_type": "code",
      "execution_count": null,
      "metadata": {
        "id": "-SO83T8tpL0B"
      },
      "outputs": [],
      "source": []
    },
    {
      "cell_type": "markdown",
      "source": [
        "# PyTorch Workflow\n",
        "\n",
        "end-to-end workflow\n"
      ],
      "metadata": {
        "id": "6O8ySmcQpzXz"
      }
    },
    {
      "cell_type": "code",
      "source": [
        "what_were_covering = {1: \"Data(preparing and loading)\",\n",
        "                      2: \"Build model\",\n",
        "                      3: \"Fitting model to data (training)\",\n",
        "                      4: \"Making predictions and evaluting a model (inference)\",\n",
        "                      5: \"Saving and loading a model\",\n",
        "                      6: \"Putting it all together\"}\n",
        "what_were_covering"
      ],
      "metadata": {
        "colab": {
          "base_uri": "https://localhost:8080/"
        },
        "id": "QR-FP7XqqJ03",
        "outputId": "3f99980d-ae67-4a0e-8401-f6fc1bad1819"
      },
      "execution_count": 1,
      "outputs": [
        {
          "output_type": "execute_result",
          "data": {
            "text/plain": [
              "{1: 'Data(preparing and loading)',\n",
              " 2: 'Build model',\n",
              " 3: 'Fitting model to data (training)',\n",
              " 4: 'Making predictions and evaluting a model (inference)',\n",
              " 5: 'Saving and loading a model',\n",
              " 6: 'Putting it all together'}"
            ]
          },
          "metadata": {},
          "execution_count": 1
        }
      ]
    },
    {
      "cell_type": "code",
      "source": [
        "import torch\n",
        "from torch import nn # nn contains all pytorch building blocks\n",
        "import matplotlib.pyplot as plt\n",
        "\n",
        "# Check PyTorch\n",
        "torch.__version__"
      ],
      "metadata": {
        "colab": {
          "base_uri": "https://localhost:8080/",
          "height": 36
        },
        "id": "Qrr9GY-Dq97_",
        "outputId": "b7384ded-8407-4a9e-cef9-6d9ca3b48207"
      },
      "execution_count": 2,
      "outputs": [
        {
          "output_type": "execute_result",
          "data": {
            "text/plain": [
              "'2.1.0+cu118'"
            ],
            "application/vnd.google.colaboratory.intrinsic+json": {
              "type": "string"
            }
          },
          "metadata": {},
          "execution_count": 2
        }
      ]
    },
    {
      "cell_type": "markdown",
      "source": [
        "from typing_extensions import Text\n",
        "## 1. Preparing and loading data\n",
        "\n",
        "Data can be almost anything in machine learnign\n",
        "\n",
        "* Excel spreadsheets\n",
        "* Images\n",
        "* Videos\n",
        "* Audio\n",
        "* Dna\n",
        "* Text\n",
        "\n",
        "Machine learning is a game of two parts\n",
        "1. Get data into numerical representation\n",
        "2. Build mode to learn patterns in representation\n",
        "\n",
        "To Showcase this lets generate some *known* data using linear regression formula"
      ],
      "metadata": {
        "id": "XcPJmXmdrmWf"
      }
    },
    {
      "cell_type": "code",
      "source": [
        "# Create known parameters\n",
        "weight = 0.7\n",
        "bias = 0.3\n",
        "\n",
        "# Create data\n",
        "start = 0\n",
        "end = 1\n",
        "step = 0.02\n",
        "\n",
        "X = torch.arange(start, end, step).unsqueeze(dim=1)\n",
        "y = weight * X + bias\n",
        "X[:10], y[:10]"
      ],
      "metadata": {
        "colab": {
          "base_uri": "https://localhost:8080/"
        },
        "id": "97eWUKGWsIP6",
        "outputId": "34eb2170-2801-46a6-f8fc-ccd8a42d6d56"
      },
      "execution_count": 3,
      "outputs": [
        {
          "output_type": "execute_result",
          "data": {
            "text/plain": [
              "(tensor([[0.0000],\n",
              "         [0.0200],\n",
              "         [0.0400],\n",
              "         [0.0600],\n",
              "         [0.0800],\n",
              "         [0.1000],\n",
              "         [0.1200],\n",
              "         [0.1400],\n",
              "         [0.1600],\n",
              "         [0.1800]]),\n",
              " tensor([[0.3000],\n",
              "         [0.3140],\n",
              "         [0.3280],\n",
              "         [0.3420],\n",
              "         [0.3560],\n",
              "         [0.3700],\n",
              "         [0.3840],\n",
              "         [0.3980],\n",
              "         [0.4120],\n",
              "         [0.4260]]))"
            ]
          },
          "metadata": {},
          "execution_count": 3
        }
      ]
    },
    {
      "cell_type": "code",
      "source": [
        "len(X), len(y)"
      ],
      "metadata": {
        "colab": {
          "base_uri": "https://localhost:8080/"
        },
        "id": "FpLJNRRtt6CM",
        "outputId": "acd13db5-728f-4307-ec28-1a2936d9171e"
      },
      "execution_count": 4,
      "outputs": [
        {
          "output_type": "execute_result",
          "data": {
            "text/plain": [
              "(50, 50)"
            ]
          },
          "metadata": {},
          "execution_count": 4
        }
      ]
    },
    {
      "cell_type": "markdown",
      "source": [
        "### Splittig data into training adn data test sets\n",
        "\n",
        "Lets create training and test set with our data"
      ],
      "metadata": {
        "id": "yHavwFYSuZj8"
      }
    },
    {
      "cell_type": "code",
      "source": [
        "# Create train/test split\n",
        "train_split = int(0.8*len(X))\n",
        "X_train, y_train = X[:train_split], y[:train_split]\n",
        "X_test, y_test = X[train_split:], y[train_split:]\n",
        "len(X_train), len(y_train), len(X_test), len(y_test)"
      ],
      "metadata": {
        "colab": {
          "base_uri": "https://localhost:8080/"
        },
        "id": "ICR5hpmnujNH",
        "outputId": "26f440cf-f3a9-428a-87cc-155ddfb0d3c1"
      },
      "execution_count": 5,
      "outputs": [
        {
          "output_type": "execute_result",
          "data": {
            "text/plain": [
              "(40, 40, 10, 10)"
            ]
          },
          "metadata": {},
          "execution_count": 5
        }
      ]
    },
    {
      "cell_type": "markdown",
      "source": [
        "How do we better visualize the data?"
      ],
      "metadata": {
        "id": "uxvY0wVPwio3"
      }
    },
    {
      "cell_type": "code",
      "source": [
        "def plot_predictions(train_data=X_train,\n",
        "                     train_labels=y_train,\n",
        "                     test_data=X_test,\n",
        "                     test_label=y_test,\n",
        "                     predictions=None):\n",
        "  \"\"\"\n",
        "  Plots training data, test data and compare predictions\n",
        "  \"\"\"\n",
        "\n",
        "  plt.figure(figsize=(10,7))\n",
        "\n",
        "  # plot training data\n",
        "  plt.scatter(train_data, train_labels, c=\"b\", s=4, label=\"Training data\")\n",
        "\n",
        "    # plot test data\n",
        "  plt.scatter(test_data, test_label, c=\"g\", s=4, label=\"Testing data\")\n",
        "\n",
        "  # Plot predictions\n",
        "  if predictions is not None:\n",
        "    plt.scatter(test_data, predictions, c=\"r\", s=4, label=\"Predictions\")\n",
        "\n",
        "  plt.legend(prop={\"size\":14});"
      ],
      "metadata": {
        "id": "AgY0tFyjwimU"
      },
      "execution_count": 6,
      "outputs": []
    },
    {
      "cell_type": "code",
      "source": [
        "plot_predictions()"
      ],
      "metadata": {
        "colab": {
          "base_uri": "https://localhost:8080/",
          "height": 599
        },
        "id": "3SKeBxiEy_qp",
        "outputId": "3ceda7bc-2578-4d27-dc90-249435163335"
      },
      "execution_count": 7,
      "outputs": [
        {
          "output_type": "display_data",
          "data": {
            "text/plain": [
              "<Figure size 1000x700 with 1 Axes>"
            ],
            "image/png": "[encoded data removed]"
          },
          "metadata": {}
        }
      ]
    },
    {
      "cell_type": "markdown",
      "source": [
        "## 2. Build model\n",
        "\n",
        "First PyTorch model\n",
        "\n",
        "What our model does:\n",
        "* Start with random values (weight and bias)\n",
        "* Look at training data and adjust the random values to better represent (or get closer to) the ideal values\n",
        "\n",
        "How it does so?\n",
        "Two main algorithms\n",
        "1. Gradien descent\n",
        "2. Backpropagation\n"
      ],
      "metadata": {
        "id": "sQ_TzInqwijP"
      }
    },
    {
      "cell_type": "code",
      "source": [
        "# Create linear regression model class\n",
        "class LinearRegressionModel(nn.Module): # Almost everything inherits froim nn.module\n",
        "  def __init__(self):\n",
        "    super().__init__()\n",
        "    self.weight = nn.Parameter(torch.randn(1))#,\n",
        "                                            #reguires_grad=True,\n",
        "                                            #dtyp=torch.float))\n",
        "\n",
        "    self.bias = nn.Parameter(torch.randn(1))#,\n",
        "                                            #reguires_grad=True,\n",
        "                                            #dtyp=torch.float))\n",
        "\n",
        "  # Forward method to define the computation in the model\n",
        "  def forward(self, x: torch.Tensor) -> torch.Tensor: #<- X is the input data\n",
        "    return self.weight * x + self.bias # Linear regression formula\n"
      ],
      "metadata": {
        "id": "KrW2oPF8wigg"
      },
      "execution_count": 50,
      "outputs": []
    },
    {
      "cell_type": "markdown",
      "source": [
        "### PyTroch Model building essentials\n",
        "\n",
        "* Torch.nn - Contains all of the building for computational graphs (a neural network can be considered a computational graph)\n",
        "* torch.nn.Parameter - What paramters should our model try and learn, often a Pytorch layer from torch.nn will set these for us\n",
        "* torch.nn.Module - the base class for all neural network modules, if you subclass it you should override forward() method\n",
        "* torch.optim - Where optimizer in pytorch live. They will help with gradien descent\n",
        "* def forward() - All nn.Module subclasses require you to override forward(), this method defines what happens in the forward computation\n"
      ],
      "metadata": {
        "id": "NhxljxUWwids"
      }
    },
    {
      "cell_type": "markdown",
      "source": [
        "### Checking the content of our PyTorch Model\n",
        "\n",
        "We can check model paramters or whats inside ourmodel using .parameter()"
      ],
      "metadata": {
        "id": "Lr268Sbpwia2"
      }
    },
    {
      "cell_type": "code",
      "source": [
        "# Create random seed\n",
        "torch.manual_seed(42)\n",
        "\n",
        "# Create an instance of the model\n",
        "model_0 = LinearRegressionModel()\n",
        "model_0\n",
        "\n",
        "#Check Model paramters\n",
        "list(model_0.parameters())"
      ],
      "metadata": {
        "id": "Fg67sU37dmZh",
        "outputId": "7a7ba4f1-7fde-42bf-b096-2625fb8096f1",
        "colab": {
          "base_uri": "https://localhost:8080/"
        }
      },
      "execution_count": 77,
      "outputs": [
        {
          "output_type": "execute_result",
          "data": {
            "text/plain": [
              "[Parameter containing:\n",
              " tensor([0.3367], requires_grad=True),\n",
              " Parameter containing:\n",
              " tensor([0.1288], requires_grad=True)]"
            ]
          },
          "metadata": {},
          "execution_count": 77
        }
      ]
    },
    {
      "cell_type": "code",
      "source": [
        "# List named parameters\n",
        "model_0.state_dict()"
      ],
      "metadata": {
        "id": "vXaBRDNRdm4L",
        "outputId": "26965e69-1e93-4eb6-a384-cf3966590071",
        "colab": {
          "base_uri": "https://localhost:8080/"
        }
      },
      "execution_count": 24,
      "outputs": [
        {
          "output_type": "execute_result",
          "data": {
            "text/plain": [
              "OrderedDict([('weight', tensor([0.3367])), ('bias', tensor([0.1288]))])"
            ]
          },
          "metadata": {},
          "execution_count": 24
        }
      ]
    },
    {
      "cell_type": "code",
      "source": [
        "weight, bias"
      ],
      "metadata": {
        "id": "SVoZYsgqdm1r",
        "outputId": "ab97e4cd-47d1-4bcb-8162-28b380f869b7",
        "colab": {
          "base_uri": "https://localhost:8080/"
        }
      },
      "execution_count": 25,
      "outputs": [
        {
          "output_type": "execute_result",
          "data": {
            "text/plain": [
              "(0.7, 0.3)"
            ]
          },
          "metadata": {},
          "execution_count": 25
        }
      ]
    },
    {
      "cell_type": "markdown",
      "source": [
        "### Making predictions using torch.inference_mode()\n",
        "\n",
        "To check models predictive power lets see how well it predicts y_test and x_test\n",
        "\n",
        "when we pass the data through our model, its going to run it through the forward() method"
      ],
      "metadata": {
        "id": "g-Ig8bFvdmzB"
      }
    },
    {
      "cell_type": "code",
      "source": [
        "# make predictions with model\n",
        "with torch.inference_mode():\n",
        "  y_preds = model_0(X_test)\n",
        "\n",
        "y_preds"
      ],
      "metadata": {
        "id": "rZpar5G5dmv5",
        "outputId": "39117249-e643-4224-88e3-338d987a4c1c",
        "colab": {
          "base_uri": "https://localhost:8080/"
        }
      },
      "execution_count": 35,
      "outputs": [
        {
          "output_type": "execute_result",
          "data": {
            "text/plain": [
              "tensor([[0.3982],\n",
              "        [0.4049],\n",
              "        [0.4116],\n",
              "        [0.4184],\n",
              "        [0.4251],\n",
              "        [0.4318],\n",
              "        [0.4386],\n",
              "        [0.4453],\n",
              "        [0.4520],\n",
              "        [0.4588]])"
            ]
          },
          "metadata": {},
          "execution_count": 35
        }
      ]
    },
    {
      "cell_type": "code",
      "source": [
        "y_test"
      ],
      "metadata": {
        "id": "G2-R66ZHdmtD",
        "outputId": "e18f3067-7f7a-4dad-c418-85a992db16dd",
        "colab": {
          "base_uri": "https://localhost:8080/"
        }
      },
      "execution_count": 36,
      "outputs": [
        {
          "output_type": "execute_result",
          "data": {
            "text/plain": [
              "tensor([[0.8600],\n",
              "        [0.8740],\n",
              "        [0.8880],\n",
              "        [0.9020],\n",
              "        [0.9160],\n",
              "        [0.9300],\n",
              "        [0.9440],\n",
              "        [0.9580],\n",
              "        [0.9720],\n",
              "        [0.9860]])"
            ]
          },
          "metadata": {},
          "execution_count": 36
        }
      ]
    },
    {
      "cell_type": "code",
      "source": [
        "plot_predictions(predictions=y_preds)"
      ],
      "metadata": {
        "id": "GVddeRhsdme9",
        "outputId": "977c923e-2ff7-4014-8e6e-b5b5d023522b",
        "colab": {
          "base_uri": "https://localhost:8080/",
          "height": 599
        }
      },
      "execution_count": 37,
      "outputs": [
        {
          "output_type": "display_data",
          "data": {
            "text/plain": [
              "<Figure size 1000x700 with 1 Axes>"
            ],
            "image/png": "[encoded data removed]"
          },
          "metadata": {}
        }
      ]
    },
    {
      "cell_type": "markdown",
      "source": [
        "## 3. Train model\n",
        "\n",
        "The whole idea for a model to move from some *unknown* paramters to some *known* parameters\n",
        "\n",
        "Or in other words fropm poor representation of the data to a better representation of the data\n",
        "\n",
        "One way to measure how pooer or how wrong is to use loss functions\n",
        "\n",
        "* Note: Loss functions may also be called cost functions or criterion in different areas.\n",
        "\n",
        "Things we need to train:\n",
        "\n",
        "* **Loss functions:** Function to measure how wrong model prediction is against test data. Lower the value the better performance\n",
        "* **Optimizer:** Takes into account the loss of the model and adjusts the models parameters\n",
        "\n",
        "And spefically for the Pytorch we need\n",
        "* A training loop\n",
        "* A testing loop\n"
      ],
      "metadata": {
        "id": "wirwbXQshB59"
      }
    },
    {
      "cell_type": "code",
      "source": [
        "list(model_0.parameters())"
      ],
      "metadata": {
        "id": "u3E4IkUqhB2s",
        "outputId": "d4206fa3-e65e-4f95-9fcb-c02b61216cb5",
        "colab": {
          "base_uri": "https://localhost:8080/"
        }
      },
      "execution_count": 38,
      "outputs": [
        {
          "output_type": "execute_result",
          "data": {
            "text/plain": [
              "[Parameter containing:\n",
              " tensor([0.3367], requires_grad=True),\n",
              " Parameter containing:\n",
              " tensor([0.1288], requires_grad=True)]"
            ]
          },
          "metadata": {},
          "execution_count": 38
        }
      ]
    },
    {
      "cell_type": "code",
      "source": [
        "# Setup loss function\n",
        "loss_fn = nn.L1Loss()\n",
        "\n",
        "# Setup optimizer\n",
        "optimizer = torch.optim.SGD(params=model_0.parameters(),\n",
        "                            lr=0.001) # lr=learning rate = most important hyperparameter"
      ],
      "metadata": {
        "id": "7fQaf3cohBzC"
      },
      "execution_count": 78,
      "outputs": []
    },
    {
      "cell_type": "markdown",
      "source": [
        "### Building a training loop and testing loop in PyTorch\n",
        "\n",
        "Couple things we need in a training loop\n",
        "0. Loop through data\n",
        "1. Forward pass (this envolves data moving through our models forward() fucntions\n",
        "2. Calculate the loss (compare forward pass predictions to ground truth labels)\n",
        "3. Optimizer zero grad\n",
        "4. Loss backward - move backwards through the network to calculate the gradiesnt of the each of the parameters of our model with respect to loss **(backpropagations)**\n",
        "5. Optimizer step - use the optimizer to adjust our models parameters to try and improve the loss **(gradient descent)**\n"
      ],
      "metadata": {
        "id": "x-y9Z4ijdmcR"
      }
    },
    {
      "cell_type": "code",
      "source": [
        "# Epoch is one loop through the data (hyperparamter)\n",
        "epochs = 10000\n",
        "torch.manual_seed(42)\n",
        "### Training\n",
        "\n",
        "#  0. loop through the data\n",
        "for epoch in range(epochs):\n",
        "  # Set the model to training mode\n",
        "  model_0.train() # train mode in PyTorch set all parameters that require gradients\n",
        "\n",
        "  # 1. Forward pass\n",
        "  y_pred = model_0(X_train)\n",
        "\n",
        "  # 2. Calculate loss\n",
        "  loss = loss_fn(y_pred, y_train)\n",
        "\n",
        "  # 3. Optimiser zero grad\n",
        "  optimizer.zero_grad()\n",
        "\n",
        "  # 4. perform backpropagation with respect to the parameters of the mode\n",
        "  loss.backward()\n",
        "\n",
        "  #5. Step the optimizer (perform gradien descent)\n",
        "  optimizer.step()\n",
        "\n",
        "  ### Testing\n",
        "  model_0.eval() # Turns off gradient tracking\n",
        "  with torch.inference_mode(): # Turns off gradient tracking\n",
        "    # 1. Forward pass\n",
        "    test_pred = model_0(X_test)\n",
        "\n",
        "    # 2. Calculate the loss\n",
        "    test_loss = loss_fn(test_pred, y_test)\n",
        "\n",
        "  if epoch % 1000 == 0:\n",
        "    print(f\"Epoch: {epoch} | Loss: {loss} | Test Loss: {test_loss}\")\n",
        "\n",
        "print(f\"Loss: {loss}\")"
      ],
      "metadata": {
        "id": "GcAob4QDsO1c",
        "outputId": "e16df415-a2bd-42cc-8493-1f3711d2de0e",
        "colab": {
          "base_uri": "https://localhost:8080/"
        }
      },
      "execution_count": 80,
      "outputs": [
        {
          "output_type": "stream",
          "name": "stdout",
          "text": [
            "Epoch: 0 | Loss: 0.0007075972971506417 | Test Loss: 0.0007690846687182784\n",
            "Epoch: 1000 | Loss: 0.0007075972971506417 | Test Loss: 0.0007690846687182784\n",
            "Epoch: 2000 | Loss: 0.0007075972971506417 | Test Loss: 0.0007690846687182784\n",
            "Epoch: 3000 | Loss: 0.0007075972971506417 | Test Loss: 0.0007690846687182784\n",
            "Epoch: 4000 | Loss: 0.0007075972971506417 | Test Loss: 0.0007690846687182784\n",
            "Epoch: 5000 | Loss: 0.0007075972971506417 | Test Loss: 0.0007690846687182784\n",
            "Epoch: 6000 | Loss: 0.0007075972971506417 | Test Loss: 0.0007690846687182784\n",
            "Epoch: 7000 | Loss: 0.0007075972971506417 | Test Loss: 0.0007690846687182784\n",
            "Epoch: 8000 | Loss: 0.0007075972971506417 | Test Loss: 0.0007690846687182784\n",
            "Epoch: 9000 | Loss: 0.0007075972971506417 | Test Loss: 0.0007690846687182784\n",
            "Loss: 0.0004444979131221771\n"
          ]
        }
      ]
    },
    {
      "cell_type": "code",
      "source": [
        "model_0.state_dict()"
      ],
      "metadata": {
        "id": "UgTtl8iEsOyN",
        "outputId": "62c8f4f0-7e86-4799-c900-4669505c61f4",
        "colab": {
          "base_uri": "https://localhost:8080/"
        }
      },
      "execution_count": 81,
      "outputs": [
        {
          "output_type": "execute_result",
          "data": {
            "text/plain": [
              "OrderedDict([('weight', tensor([0.6997])), ('bias', tensor([0.3008]))])"
            ]
          },
          "metadata": {},
          "execution_count": 81
        }
      ]
    },
    {
      "cell_type": "code",
      "source": [
        "weight, bias"
      ],
      "metadata": {
        "id": "HtXgJadCsOvN",
        "outputId": "2a3a82cf-f728-4d99-8470-7d884b368c09",
        "colab": {
          "base_uri": "https://localhost:8080/"
        }
      },
      "execution_count": 45,
      "outputs": [
        {
          "output_type": "execute_result",
          "data": {
            "text/plain": [
              "(0.7, 0.3)"
            ]
          },
          "metadata": {},
          "execution_count": 45
        }
      ]
    },
    {
      "cell_type": "code",
      "source": [
        "with torch.inference_mode():\n",
        "  y_preds_new = model_0(X_test)\n",
        "\n",
        "plot_predictions(predictions=y_preds_new)"
      ],
      "metadata": {
        "id": "vJ3EQKfzsOgn",
        "outputId": "1001fa17-1386-4b78-cef1-ef16fa465def",
        "colab": {
          "base_uri": "https://localhost:8080/",
          "height": 599
        }
      },
      "execution_count": 82,
      "outputs": [
        {
          "output_type": "display_data",
          "data": {
            "text/plain": [
              "<Figure size 1000x700 with 1 Axes>"
            ],
            "image/png": "[encoded data removed]"
          },
          "metadata": {}
        }
      ]
    },
    {
      "cell_type": "code",
      "source": [],
      "metadata": {
        "id": "jP_CeQ0WsOdl"
      },
      "execution_count": null,
      "outputs": []
    },
    {
      "cell_type": "code",
      "source": [],
      "metadata": {
        "id": "U5pLk6jksOae"
      },
      "execution_count": null,
      "outputs": []
    },
    {
      "cell_type": "code",
      "source": [],
      "metadata": {
        "id": "A4Pc3vkysOXQ"
      },
      "execution_count": null,
      "outputs": []
    }
  ]
}